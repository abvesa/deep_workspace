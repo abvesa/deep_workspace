{
 "cells": [
  {
   "cell_type": "markdown",
   "metadata": {},
   "source": [
    "### 0. settings"
   ]
  },
  {
   "cell_type": "code",
   "execution_count": 164,
   "metadata": {},
   "outputs": [],
   "source": [
    "from selenium import webdriver as wd\n",
    "from bs4 import BeautifulSoup as bs\n",
    "import time\n",
    "from IPython.display import display\n",
    "from IPython.display import clear_output\n",
    "import random"
   ]
  },
  {
   "cell_type": "code",
   "execution_count": null,
   "metadata": {},
   "outputs": [],
   "source": []
  },
  {
   "cell_type": "code",
   "execution_count": 185,
   "metadata": {},
   "outputs": [],
   "source": [
    "browser = webdriver.Chrome('./chromedriver')"
   ]
  },
  {
   "cell_type": "code",
   "execution_count": 144,
   "metadata": {},
   "outputs": [],
   "source": [
    "def progressBar(curr, total):\n",
    "    percentage = curr/total\n",
    "    min_scale = 0.02\n",
    "    total_unit = 50\n",
    "    arrow_val = 1\n",
    "    bar_val = int(50*percentage)-1\n",
    "    dot_val = total_unit - arrow_val - bar_val\n",
    "    bar = '[' + ''.join(['=' for _ in range(bar_val)] + ['>'] + ['.' for _ in range(dot_val)]) + ']'\n",
    "    whole_bar = '{} -- {}/{}({}%)'.format(bar, curr, total, int((curr/total)*100))\n",
    "    return whole_bar"
   ]
  },
  {
   "cell_type": "markdown",
   "metadata": {},
   "source": [
    "### 1. get all stock id"
   ]
  },
  {
   "cell_type": "code",
   "execution_count": 66,
   "metadata": {},
   "outputs": [],
   "source": [
    "url = 'https://www.twse.com.tw/zh/page/trading/exchange/STOCK_DAY.html'\n",
    "browser.get(url)\n",
    "browser.find_element_by_css_selector('form a').click()"
   ]
  },
  {
   "cell_type": "code",
   "execution_count": 67,
   "metadata": {},
   "outputs": [],
   "source": [
    "browser.find_element_by_css_selector('.zh.production .view.v1 .category.stk a[data-val=\"24\"]').click()"
   ]
  },
  {
   "cell_type": "code",
   "execution_count": 68,
   "metadata": {},
   "outputs": [],
   "source": [
    "soup = bs(browser.page_source, 'html.parser')\n",
    "rlt = soup.select('.zh.production')[0].select('.view.v2')[0].select('.items')[0].select('a')\n",
    "stock_ids = [i.text.split()[0] for i in rlt]"
   ]
  },
  {
   "cell_type": "markdown",
   "metadata": {},
   "source": [
    "### 2. crawl single stock"
   ]
  },
  {
   "cell_type": "code",
   "execution_count": 186,
   "metadata": {},
   "outputs": [],
   "source": [
    "year_range = range(2013, 2019)\n",
    "month_range = range(1, 13)\n",
    "\n",
    "browser.get(url)\n",
    "stock_data = {}"
   ]
  },
  {
   "cell_type": "code",
   "execution_count": 187,
   "metadata": {},
   "outputs": [
    {
     "data": {
      "text/plain": [
       "'stock 2302 -- [>..................................................] -- 1/90(1%)'"
      ]
     },
     "metadata": {},
     "output_type": "display_data"
    },
    {
     "data": {
      "text/plain": [
       "'year  2018 -- [=================================================>] -- 6/6(100%)'"
      ]
     },
     "metadata": {},
     "output_type": "display_data"
    },
    {
     "data": {
      "text/plain": [
       "'month 12   -- [=================================================>] -- 12/12(100%)'"
      ]
     },
     "metadata": {},
     "output_type": "display_data"
    }
   ],
   "source": [
    "for s_id, curr in enumerate(stock_ids):\n",
    "    stock_data[curr] = {}\n",
    "    \n",
    "    browser.find_element_by_class_name('stock-code-autocomplete').send_keys(curr)\n",
    "    \n",
    "    for y_id, yr in enumerate(year_range):\n",
    "        \n",
    "        stock_data[curr][yr] = {}\n",
    "        \n",
    "        browser.find_element_by_css_selector('#d1 select[name=\"yy\"] option[value=\"{}\"]'.format(yr)).click()\n",
    "        \n",
    "        for m_id, mn in enumerate(month_range):  \n",
    "            \n",
    "            ###\n",
    "            clear_output(wait=True)\n",
    "            display('stock {} -- {}'.format(curr, progressBar(s_id+1, len(stock_ids))),\n",
    "                    'year  {} -- {}'.format(yr, progressBar(y_id+1, len(year_range))),\n",
    "                    'month {}   -- {}'.format(mn, progressBar(m_id+1, len(month_range))))            \n",
    "            ###\n",
    "            \n",
    "            \n",
    "            stock_data[curr][yr][mn] = []\n",
    "            \n",
    "            browser.find_element_by_css_selector('#d1 select[name=\"mm\"] option[value=\"{}\"]'.format(mn)).click()\n",
    "            browser.find_element_by_css_selector('.main.ajax .button.search').click()\n",
    "            \n",
    "            time.sleep(random.uniform(1.0, 5.0))\n",
    "            \n",
    "            soup = bs(browser.page_source, 'html.parser')\n",
    "            \n",
    "            stock_data[curr][yr][mn] = [[td.text for td in tr.select('td')] for tr in soup.select('.data-table')[0].select('tbody tr')]\n",
    "            \n",
    "    break"
   ]
  },
  {
   "cell_type": "code",
   "execution_count": 93,
   "metadata": {},
   "outputs": [],
   "source": []
  },
  {
   "cell_type": "code",
   "execution_count": 194,
   "metadata": {},
   "outputs": [],
   "source": [
    "import msgpack"
   ]
  },
  {
   "cell_type": "code",
   "execution_count": 196,
   "metadata": {},
   "outputs": [],
   "source": [
    "with open('2302.pkl', 'wb') as f:\n",
    "    msgpack.dump(stock_data['2302'], f)"
   ]
  },
  {
   "cell_type": "code",
   "execution_count": 80,
   "metadata": {},
   "outputs": [],
   "source": []
  },
  {
   "cell_type": "code",
   "execution_count": null,
   "metadata": {},
   "outputs": [],
   "source": []
  },
  {
   "cell_type": "code",
   "execution_count": null,
   "metadata": {},
   "outputs": [],
   "source": []
  },
  {
   "cell_type": "code",
   "execution_count": null,
   "metadata": {},
   "outputs": [],
   "source": []
  }
 ],
 "metadata": {
  "kernelspec": {
   "display_name": "py367",
   "language": "python",
   "name": "py367"
  },
  "language_info": {
   "codemirror_mode": {
    "name": "ipython",
    "version": 3
   },
   "file_extension": ".py",
   "mimetype": "text/x-python",
   "name": "python",
   "nbconvert_exporter": "python",
   "pygments_lexer": "ipython3",
   "version": "3.6.7"
  }
 },
 "nbformat": 4,
 "nbformat_minor": 2
}
